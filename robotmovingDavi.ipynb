{
 "cells": [
  {
   "cell_type": "code",
   "execution_count": 5,
   "metadata": {},
   "outputs": [
    {
     "ename": "TypeError",
     "evalue": "'numpy.ndarray' object is not callable",
     "output_type": "error",
     "traceback": [
      "\u001b[0;31m---------------------------------------------------------------------------\u001b[0m",
      "\u001b[0;31mTypeError\u001b[0m                                 Traceback (most recent call last)",
      "Cell \u001b[0;32mIn[5], line 41\u001b[0m\n\u001b[1;32m     38\u001b[0m obs1 \u001b[38;5;241m=\u001b[39m np\u001b[38;5;241m.\u001b[39marray([\u001b[38;5;241m3\u001b[39m, \u001b[38;5;241m4\u001b[39m, \u001b[38;5;241m.5\u001b[39m])\n\u001b[1;32m     39\u001b[0m obs2 \u001b[38;5;241m=\u001b[39m np\u001b[38;5;241m.\u001b[39marray([\u001b[38;5;241m7\u001b[39m, \u001b[38;5;241m5\u001b[39m, \u001b[38;5;241m.5\u001b[39m])\n\u001b[0;32m---> 41\u001b[0m Frep1 \u001b[38;5;241m=\u001b[39m \u001b[43mrep_force\u001b[49m\u001b[43m(\u001b[49m\u001b[43mXY\u001b[49m\u001b[43m,\u001b[49m\u001b[43m \u001b[49m\u001b[43mobs1\u001b[49m\u001b[43m)\u001b[49m\n\u001b[1;32m     42\u001b[0m Frep1_x \u001b[38;5;241m=\u001b[39m np\u001b[38;5;241m.\u001b[39mcopy(Frep1[:,\u001b[38;5;241m0\u001b[39m])\n\u001b[1;32m     43\u001b[0m Frep1_y \u001b[38;5;241m=\u001b[39m np\u001b[38;5;241m.\u001b[39mcopy(Frep1[:,\u001b[38;5;241m1\u001b[39m])\n",
      "Cell \u001b[0;32mIn[5], line 27\u001b[0m, in \u001b[0;36mrep_force\u001b[0;34m(q, obs, R, krep)\u001b[0m\n\u001b[1;32m     24\u001b[0m d \u001b[38;5;241m=\u001b[39m np\u001b[38;5;241m.\u001b[39mlinalg\u001b[38;5;241m.\u001b[39mnorm(v, axis\u001b[38;5;241m=\u001b[39m\u001b[38;5;241m1\u001b[39m) \u001b[38;5;241m-\u001b[39m obs[\u001b[38;5;241m2\u001b[39m]\n\u001b[1;32m     25\u001b[0m d \u001b[38;5;241m=\u001b[39m d\u001b[38;5;241m.\u001b[39mreshape((\u001b[38;5;28mlen\u001b[39m(v), \u001b[38;5;241m1\u001b[39m))\n\u001b[0;32m---> 27\u001b[0m rep \u001b[38;5;241m=\u001b[39m \u001b[43m(\u001b[49m\u001b[38;5;241;43m1\u001b[39;49m\u001b[38;5;241;43m/\u001b[39;49m\u001b[43md\u001b[49m\u001b[38;5;241;43m*\u001b[39;49m\u001b[38;5;241;43m2\u001b[39;49m\u001b[43m)\u001b[49m\u001b[43m(\u001b[49m\u001b[43m(\u001b[49m\u001b[38;5;241;43m1\u001b[39;49m\u001b[38;5;241;43m/\u001b[39;49m\u001b[43md\u001b[49m\u001b[43m)\u001b[49m\u001b[38;5;241;43m-\u001b[39;49m\u001b[43m(\u001b[49m\u001b[38;5;241;43m1\u001b[39;49m\u001b[38;5;241;43m/\u001b[39;49m\u001b[43mR\u001b[49m\u001b[43m)\u001b[49m\u001b[43m)\u001b[49m\u001b[38;5;241m*\u001b[39m(v\u001b[38;5;241m/\u001b[39md)\n\u001b[1;32m     29\u001b[0m invalid \u001b[38;5;241m=\u001b[39m np\u001b[38;5;241m.\u001b[39msqueeze(d \u001b[38;5;241m>\u001b[39m R)\n\u001b[1;32m     30\u001b[0m rep[invalid, :] \u001b[38;5;241m=\u001b[39m \u001b[38;5;241m0\u001b[39m\n",
      "\u001b[0;31mTypeError\u001b[0m: 'numpy.ndarray' object is not callable"
     ]
    },
    {
     "data": {
      "image/png": "[encoded data removed]",
      "text/plain": [
       "<Figure size 800x500 with 1 Axes>"
      ]
     },
     "metadata": {},
     "output_type": "display_data"
    }
   ],
   "source": [
    "import numpy as np\n",
    "import matplotlib.pyplot as plt\n",
    "import matplotlib.patches as patches\n",
    "\n",
    "WORLDX, WORLDY = 10, 6\n",
    "\n",
    "def att_force(q, goal, katt=.01):\n",
    "  return katt*(goal - q)\n",
    "\n",
    "goal = np.array([8, 2])\n",
    "\n",
    "fig = plt.figure(figsize=(8,5), dpi=100)\n",
    "ax = fig.add_subplot(111, aspect='equal')\n",
    "\n",
    "XX, YY = np.meshgrid(np.arange(0, WORLDX+.4, .4), np.arange(0, WORLDY+.4, .4))\n",
    "XY = np.dstack([XX, YY]).reshape(-1, 2)\n",
    "\n",
    "Fatt = att_force(XY, goal)\n",
    "Fatt_x = Fatt[:,0]\n",
    "Fatt_y = Fatt[:,1]\n",
    "\n",
    "def rep_force(q, obs, R=3, krep=.1):\n",
    "  v = q - obs[0:2]\n",
    "  d = np.linalg.norm(v, axis=1) - obs[2]\n",
    "  d = d.reshape((len(v), 1))\n",
    "\n",
    "  rep = (1/d*2)((1/d)-(1/R))*(v/d)\n",
    "\n",
    "  invalid = np.squeeze(d > R)\n",
    "  rep[invalid, :] = 0\n",
    "\n",
    "  return krep*rep\n",
    "\n",
    "def rob_position(posx, posy):\n",
    "  rob = np.array([posx, posy, .2])\n",
    "  ax.add_patch(patches.Circle((rob[0], rob[1]), rob[2], color='y'))\n",
    "\n",
    "obs1 = np.array([3, 4, .5])\n",
    "obs2 = np.array([7, 5, .5])\n",
    "\n",
    "Frep1 = rep_force(XY, obs1)\n",
    "Frep1_x = np.copy(Frep1[:,0])\n",
    "Frep1_y = np.copy(Frep1[:,1])\n",
    "\n",
    "Frep2 = rep_force(XY, obs2)\n",
    "Frep2_x = np.copy(Frep2[:,0])\n",
    "Frep2_y = np.copy(Frep2[:,1])\n",
    "\n",
    "Ft = Fatt + Frep1 + Frep2\n",
    "\n",
    "Ft_x = Ft[:,0]\n",
    "Ft_y = Ft[:,1]\n",
    "\n",
    "fmax = .15\n",
    "Fm = np.linalg.norm(Ft, axis=1)\n",
    "Ft_x[Fm > fmax], Ft_y[Fm > fmax] = 0, 0\n",
    "\n",
    "ax.quiver(XX, YY, Ft_x, Ft_y, color='b')\n",
    "plt.plot(goal[0], goal[1], 'og', markersize=10)\n",
    "ax.add_patch(patches.Circle((obs1[0], obs1[1]), obs1[2], color='k'))\n",
    "ax.add_patch(patches.Circle((obs2[0], obs2[1]), obs2[2], color='k'))\n",
    "\n",
    "ax.set_xlim(0, WORLDX)\n",
    "ax.set_ylim(0, WORLDY)\n",
    "\n",
    "rob = np.array([2, 1, .2])\n",
    "ax.add_patch(patches.Circle((rob[0], rob[1]), rob[2], color='y'))\n",
    "\n",
    "rob_position(3, 1.4)\n",
    "rob_position(4, 1.7)\n",
    "rob_position(5, 1.85)\n",
    "rob_position(6, 1.95)\n",
    "rob_position(7, 1.98)\n",
    "rob_position(7.5, 1.99)"
   ]
  }
 ],
 "metadata": {
  "kernelspec": {
   "display_name": "Python 3",
   "language": "python",
   "name": "python3"
  },
  "language_info": {
   "codemirror_mode": {
    "name": "ipython",
    "version": 3
   },
   "file_extension": ".py",
   "mimetype": "text/x-python",
   "name": "python",
   "nbconvert_exporter": "python",
   "pygments_lexer": "ipython3",
   "version": "3.10.12"
  }
 },
 "nbformat": 4,
 "nbformat_minor": 2
}
